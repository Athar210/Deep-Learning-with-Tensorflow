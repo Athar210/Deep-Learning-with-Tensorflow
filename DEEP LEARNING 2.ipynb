{
 "cells": [
  {
   "cell_type": "code",
   "execution_count": 1,
   "metadata": {},
   "outputs": [],
   "source": [
    "import tensorflow\n",
    "from tensorflow.keras.datasets import imdb\n",
    "(train_data, train_labels), (test_data, test_labels) = imdb.load_data(num_words=10000)"
   ]
  },
  {
   "cell_type": "code",
   "execution_count": 2,
   "metadata": {},
   "outputs": [],
   "source": [
    "import numpy as np\n",
    "def vectorize_sequences(sequences, dimension=10000):\n",
    "    results = np.zeros((len(sequences), dimension))\n",
    "    for i, sequence in enumerate(sequences):\n",
    "        results[i, sequence] = 1.\n",
    "    return results\n",
    "x_train = vectorize_sequences(train_data)\n",
    "x_test = vectorize_sequences(test_data)"
   ]
  },
  {
   "cell_type": "code",
   "execution_count": 3,
   "metadata": {},
   "outputs": [],
   "source": [
    "\n",
    "y_train = np.asarray(train_labels).astype('float32')\n",
    "y_test = np.asarray(test_labels).astype('float32')"
   ]
  },
  {
   "cell_type": "code",
   "execution_count": 4,
   "metadata": {},
   "outputs": [
    {
     "name": "stdout",
     "output_type": "stream",
     "text": [
      "WARNING:tensorflow:From C:\\Users\\athar\\Anaconda3\\lib\\site-packages\\tensorflow\\python\\ops\\init_ops.py:1251: calling VarianceScaling.__init__ (from tensorflow.python.ops.init_ops) with dtype is deprecated and will be removed in a future version.\n",
      "Instructions for updating:\n",
      "Call initializer instance with the dtype argument instead of passing it to the constructor\n"
     ]
    }
   ],
   "source": [
    "from tensorflow.keras import models\n",
    "from  tensorflow.keras import layers\n",
    "model = models.Sequential()\n",
    "model.add(layers.Dense(16, activation='relu', input_shape=(10000,)))\n",
    "model.add(layers.Dense(16, activation='relu'))\n",
    "model.add(layers.Dense(1, activation='sigmoid'))"
   ]
  },
  {
   "cell_type": "code",
   "execution_count": 5,
   "metadata": {},
   "outputs": [],
   "source": [
    "x_val = x_train[:10000]\n",
    "partial_x_train = x_train[10000:]\n",
    "y_val = y_train[:10000]\n",
    "partial_y_train = y_train[10000:]\n"
   ]
  },
  {
   "cell_type": "code",
   "execution_count": 6,
   "metadata": {},
   "outputs": [
    {
     "name": "stdout",
     "output_type": "stream",
     "text": [
      "WARNING:tensorflow:From C:\\Users\\athar\\Anaconda3\\lib\\site-packages\\tensorflow\\python\\ops\\nn_impl.py:180: add_dispatch_support.<locals>.wrapper (from tensorflow.python.ops.array_ops) is deprecated and will be removed in a future version.\n",
      "Instructions for updating:\n",
      "Use tf.where in 2.0, which has the same broadcast rule as np.where\n",
      "Train on 15000 samples, validate on 10000 samples\n",
      "Epoch 1/20\n",
      "15000/15000 [==============================] - 9s 603us/sample - loss: 0.5509 - acc: 0.7706 - val_loss: 0.4257 - val_acc: 0.8626\n",
      "Epoch 2/20\n",
      "15000/15000 [==============================] - 3s 191us/sample - loss: 0.3411 - acc: 0.8927 - val_loss: 0.3211 - val_acc: 0.8853\n",
      "Epoch 3/20\n",
      "15000/15000 [==============================] - 3s 193us/sample - loss: 0.2460 - acc: 0.9211 - val_loss: 0.2840 - val_acc: 0.8919\n",
      "Epoch 4/20\n",
      "15000/15000 [==============================] - 3s 188us/sample - loss: 0.1945 - acc: 0.9362 - val_loss: 0.2762 - val_acc: 0.8908\n",
      "Epoch 5/20\n",
      "15000/15000 [==============================] - 3s 189us/sample - loss: 0.1563 - acc: 0.9503 - val_loss: 0.2911 - val_acc: 0.8860\n",
      "Epoch 6/20\n",
      "15000/15000 [==============================] - 3s 186us/sample - loss: 0.1305 - acc: 0.9586 - val_loss: 0.2827 - val_acc: 0.8887\n",
      "Epoch 7/20\n",
      "15000/15000 [==============================] - 3s 193us/sample - loss: 0.1093 - acc: 0.9661 - val_loss: 0.2969 - val_acc: 0.8857\n",
      "Epoch 8/20\n",
      "15000/15000 [==============================] - 3s 195us/sample - loss: 0.0888 - acc: 0.9754 - val_loss: 0.3136 - val_acc: 0.88340s - loss: 0.0904 - acc: 0. - ETA: 0s - loss: 0.0887 - acc: 0.975\n",
      "Epoch 9/20\n",
      "15000/15000 [==============================] - 3s 185us/sample - loss: 0.0743 - acc: 0.9791 - val_loss: 0.3444 - val_acc: 0.8825\n",
      "Epoch 10/20\n",
      "15000/15000 [==============================] - 3s 185us/sample - loss: 0.0618 - acc: 0.9837 - val_loss: 0.3562 - val_acc: 0.8803\n",
      "Epoch 11/20\n",
      "15000/15000 [==============================] - 3s 200us/sample - loss: 0.0500 - acc: 0.9871 - val_loss: 0.4008 - val_acc: 0.8702\n",
      "Epoch 12/20\n",
      "15000/15000 [==============================] - 3s 192us/sample - loss: 0.0399 - acc: 0.9907 - val_loss: 0.4067 - val_acc: 0.8758\n",
      "Epoch 13/20\n",
      "15000/15000 [==============================] - 3s 185us/sample - loss: 0.0334 - acc: 0.9927 - val_loss: 0.4365 - val_acc: 0.8743\n",
      "Epoch 14/20\n",
      "15000/15000 [==============================] - 3s 186us/sample - loss: 0.0270 - acc: 0.9944 - val_loss: 0.4651 - val_acc: 0.8700\n",
      "Epoch 15/20\n",
      "15000/15000 [==============================] - 3s 202us/sample - loss: 0.0221 - acc: 0.9962 - val_loss: 0.5002 - val_acc: 0.8735\n",
      "Epoch 16/20\n",
      "15000/15000 [==============================] - 3s 193us/sample - loss: 0.0157 - acc: 0.9987 - val_loss: 0.5355 - val_acc: 0.8715\n",
      "Epoch 17/20\n",
      "15000/15000 [==============================] - 3s 187us/sample - loss: 0.0129 - acc: 0.9988 - val_loss: 0.5647 - val_acc: 0.8690\n",
      "Epoch 18/20\n",
      "15000/15000 [==============================] - 3s 187us/sample - loss: 0.0121 - acc: 0.9983 - val_loss: 0.5976 - val_acc: 0.8657\n",
      "Epoch 19/20\n",
      "15000/15000 [==============================] - 3s 191us/sample - loss: 0.0062 - acc: 0.9998 - val_loss: 0.6481 - val_acc: 0.8690\n",
      "Epoch 20/20\n",
      "15000/15000 [==============================] - 3s 187us/sample - loss: 0.0061 - acc: 0.9997 - val_loss: 0.6705 - val_acc: 0.8678\n"
     ]
    }
   ],
   "source": [
    "model.compile(optimizer='rmsprop',loss='binary_crossentropy',metrics=['acc'])\n",
    "history = model.fit(partial_x_train,partial_y_train,epochs=20,batch_size=512,validation_data=(x_val, y_val))"
   ]
  },
  {
   "cell_type": "code",
   "execution_count": 7,
   "metadata": {},
   "outputs": [
    {
     "data": {
      "text/plain": [
       "dict_keys(['loss', 'acc', 'val_loss', 'val_acc'])"
      ]
     },
     "execution_count": 7,
     "metadata": {},
     "output_type": "execute_result"
    }
   ],
   "source": [
    "history_dict = history.history\n",
    "history_dict.keys()"
   ]
  },
  {
   "cell_type": "code",
   "execution_count": 8,
   "metadata": {},
   "outputs": [
    {
     "data": {
      "text/plain": [
       "<Figure size 640x480 with 1 Axes>"
      ]
     },
     "metadata": {},
     "output_type": "display_data"
    }
   ],
   "source": [
    "import matplotlib.pyplot as plt\n",
    "history_dict = history.history\n",
    "loss_values = history_dict['loss']\n",
    "val_loss_values = history_dict['val_loss']\n",
    "acc = history_dict['val_acc']\n",
    "acc=history_dict['acc']\n",
    "epochs = range(0, len(acc))\n",
    "plt.plot(epochs, loss_values, 'bo', label='Training loss')\n",
    "plt.plot(epochs, val_loss_values, 'b', label='Validation loss')\n",
    "plt.title('Training and validation loss')\n",
    "plt.xlabel('Epochs')\n",
    "plt.ylabel('Loss')\n",
    "plt.legend()\n",
    "plt.show()"
   ]
  },
  {
   "cell_type": "code",
   "execution_count": 9,
   "metadata": {},
   "outputs": [
    {
     "data": {
      "image/png": "[encoded data removed]",
      "text/plain": [
       "<Figure size 432x288 with 1 Axes>"
      ]
     },
     "metadata": {
      "needs_background": "light"
     },
     "output_type": "display_data"
    }
   ],
   "source": [
    "plt.clf()\n",
    "acc_values = history_dict['acc']\n",
    "val_acc_values = history_dict['val_acc']\n",
    "plt.plot(epochs, acc_values, 'bo', label='Training acc')\n",
    "plt.plot(epochs, val_acc_values, 'b', label='Validation acc')\n",
    "plt.title('Training and validation accuracy')\n",
    "plt.xlabel('Epochs')\n",
    "plt.ylabel('Loss')\n",
    "plt.legend()\n",
    "plt.show()"
   ]
  },
  {
   "cell_type": "code",
   "execution_count": 10,
   "metadata": {},
   "outputs": [],
   "source": [
    "model.save(\"apke_papa.h5\")"
   ]
  },
  {
   "cell_type": "code",
   "execution_count": 11,
   "metadata": {},
   "outputs": [],
   "source": [
    "import numpy as np\n",
    "a = np.arange(20).reshape(4,5)\n"
   ]
  },
  {
   "cell_type": "code",
   "execution_count": 12,
   "metadata": {},
   "outputs": [
    {
     "data": {
      "text/plain": [
       "4"
      ]
     },
     "execution_count": 12,
     "metadata": {},
     "output_type": "execute_result"
    }
   ],
   "source": [
    "a.shape[0]"
   ]
  },
  {
   "cell_type": "code",
   "execution_count": null,
   "metadata": {},
   "outputs": [],
   "source": []
  }
 ],
 "metadata": {
  "kernelspec": {
   "display_name": "Python 3",
   "language": "python",
   "name": "python3"
  },
  "language_info": {
   "codemirror_mode": {
    "name": "ipython",
    "version": 3
   },
   "file_extension": ".py",
   "mimetype": "text/x-python",
   "name": "python",
   "nbconvert_exporter": "python",
   "pygments_lexer": "ipython3",
   "version": "3.7.3"
  }
 },
 "nbformat": 4,
 "nbformat_minor": 2
}
